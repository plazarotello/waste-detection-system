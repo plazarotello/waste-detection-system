version https://git-lfs.github.com/spec/v1
oid sha256:fe54345cb851197422659bb7494c8d7b102c4aa0e91ced543108287c39731df6
size 8908559
