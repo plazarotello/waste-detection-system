version https://git-lfs.github.com/spec/v1
oid sha256:fc13afcd544bdeb6e5687d5d29a09546ea300fd851424b5f19cc2331bce38847
size 38645
