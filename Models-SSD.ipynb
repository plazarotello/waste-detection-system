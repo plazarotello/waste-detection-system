version https://git-lfs.github.com/spec/v1
oid sha256:d8410d61906642b7f3a5d9b5d9558b4b7af2d2f048a96354e2e3a5fb0d3d0a1d
size 56241
