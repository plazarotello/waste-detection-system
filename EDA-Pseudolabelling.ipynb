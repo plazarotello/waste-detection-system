version https://git-lfs.github.com/spec/v1
oid sha256:d3fc7bc0abf0c9680b58dcd1f1262c90010e58e76c3e3432a80507e6eb868f6d
size 23344
