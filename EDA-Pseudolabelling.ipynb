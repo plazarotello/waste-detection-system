version https://git-lfs.github.com/spec/v1
oid sha256:ac7fcf8f578cf022ea85930ae1aa039b52e86a00c367d9526c9f8c1767df014a
size 22500
