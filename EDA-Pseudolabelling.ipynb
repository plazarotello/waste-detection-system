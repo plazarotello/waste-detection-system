version https://git-lfs.github.com/spec/v1
oid sha256:f440ba2bb99defd9f26013f0346958aa7f0ea4ab3e8e56dff67922e3f4f41253
size 39350
