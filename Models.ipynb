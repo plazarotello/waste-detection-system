version https://git-lfs.github.com/spec/v1
oid sha256:0854adf5c9e33271f8b000b374a6d38a45d1c035c51313cb5f0edbda1dd40c88
size 19736
