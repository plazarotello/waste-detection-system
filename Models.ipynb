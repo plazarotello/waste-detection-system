version https://git-lfs.github.com/spec/v1
oid sha256:c1decd3789a0e0238a2ad872ad460acb078e75743f8af6ed7c00af5b5dd45abf
size 15163
