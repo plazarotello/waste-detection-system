version https://git-lfs.github.com/spec/v1
oid sha256:4881beeaf1630711603586f9cd5bf27566aac11b6a0983b7aa77700fabe28689
size 10403
