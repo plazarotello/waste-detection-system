version https://git-lfs.github.com/spec/v1
oid sha256:bcdbacb00f9d00cb7016318ea50771b5a90ae79e6da45860bab8d1280d6bf5e2
size 22496
