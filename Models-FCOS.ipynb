version https://git-lfs.github.com/spec/v1
oid sha256:7da397193454bdfe922780cd15cc22b82fbee912d4d055dd32189c61a7e9b00f
size 32484
